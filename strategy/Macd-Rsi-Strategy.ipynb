{
 "cells": [
  {
   "cell_type": "markdown",
   "id": "three-image",
   "metadata": {},
   "source": [
    "# Crypto MACD/RSI Indicators Trading\n",
    "\n",
    "In this paper we studied the possible profit using a simple strategy based on Macd and Rsi Indicators.\n",
    "\n",
    "We compared the profit achieve with our Macd/Rsi Strategy with a Naive Holding Strategy and a Naive Random Trading Strategy.\n",
    "\n",
    "Remember that this is not Financial Advice, Invest at your risk."
   ]
  },
  {
   "cell_type": "code",
   "execution_count": 224,
   "id": "charitable-battery",
   "metadata": {},
   "outputs": [],
   "source": [
    "from stockstats import StockDataFrame\n",
    "import pandas as pd\n",
    "import numpy as np\n",
    "import yfinance as yf\n",
    "import random"
   ]
  },
  {
   "cell_type": "code",
   "execution_count": 225,
   "id": "opponent-husband",
   "metadata": {},
   "outputs": [],
   "source": [
    "# Calculating the indicators\n",
    "def make_indicators(df):\n",
    "    \n",
    "    df = StockDataFrame.retype(df)\n",
    "    df['rsi_10']\n",
    "    df['macd']\n",
    "    return df.drop(['rs_10', 'close_-1_s', 'close_-1_d'], axis = 1).dropna()"
   ]
  },
  {
   "cell_type": "markdown",
   "id": "primary-eugene",
   "metadata": {},
   "source": [
    "## Algorithm\n",
    "\n",
    "All strategies use re-invest all profit\n",
    "\n",
    "* ```strategy(df)``` buy when the macd is greater then zero or when the rsi is less then 30 and sell only in positive if the rsi is greater then 40.\n",
    "\n",
    "* ```random_baseline(df)``` buy using a coin flip and sell with a profit of 3%\n",
    "\n",
    "* ```holding_baseline(df)``` buy the first day and sell the last."
   ]
  },
  {
   "cell_type": "code",
   "execution_count": 231,
   "id": "falling-tucson",
   "metadata": {},
   "outputs": [],
   "source": [
    "# MACD and RSI 10 strategy\n",
    "def strategy(df):\n",
    "    \n",
    "    # We'll buy just with the open value\n",
    "    prices = df['open']\n",
    "    # Setting all local variables to zero\n",
    "    b_price = profit = holding_time = amount = transaction_number = total_holding = p_holding = 0\n",
    "    # Setting budget\n",
    "    budget = 100\n",
    "    \n",
    "    # For each day\n",
    "    for i in range(len(df) - 1):\n",
    "        \n",
    "        # If we bought then we have to calculate the possible profit, the holding transaction time and the total holding time\n",
    "        if b_price != 0:\n",
    "            possible_profit = amount*(prices[i + 1] - b_price)\n",
    "            holding_time += 1\n",
    "            total_holding +=1\n",
    "            \n",
    "        # Else we just set possible_profit = 0 \n",
    "        else:\n",
    "            possible_profit = 0\n",
    "        \n",
    "        # If rsi_10 < 30 or macd > 0 and we didn't bought we can buy the coin\n",
    "        if ((df['rsi_10'][i] < 30 or df['macd'][i] > 0) and b_price == 0):\n",
    "            \n",
    "            # The amount is caluclated with the budget/actual price\n",
    "            amount = budget/prices[i + 1]\n",
    "            # The buy price is the tomorrow open value\n",
    "            b_price = prices[i + 1]\n",
    "            transaction_number += 1\n",
    "        \n",
    "        # If we got a positive profit and we bought and rsi_10 > 40 or we hold the coin for more then 10 days then we can sell\n",
    "        if (df['rsi_10'][i] > 40 or holding_time > 10) and possible_profit > 0.2 and b_price != 0:\n",
    "            # Setting the b_price to zero so we can buy again if needed\n",
    "            b_price = 0\n",
    "            # Setting holding_time to zero so we can count again for selling option\n",
    "            holding_time = 0\n",
    "            # Adding the profit to the budget so we can re-invest it\n",
    "            budget += possible_profit\n",
    "        \n",
    "        \n",
    "    # If we did some transaction  we calculate the average holding days\n",
    "    if transaction_number != 0:\n",
    "        p_holding = (total_holding/transaction_number)\n",
    "        \n",
    "    print(\"Total profit for RSI/MACD Strategy: {} %, average holding for transaction: {} days\".format((budget - 100), p_holding))\n",
    "    \n",
    "    return budget - 100, p_holding\n",
    "\n",
    "# Naive strategy that buy random\n",
    "def random_baseline(df):\n",
    "    \n",
    "    prices = df['open']\n",
    "    b_price = profit = holding_time = amount = transaction_number = total_holding = p_holding = 0\n",
    "    budget = 100\n",
    "    \n",
    "    \n",
    "    for i in range(len(df) - 1):\n",
    "        \n",
    "        # Flip the coin\n",
    "        r = random.randint(0,1)\n",
    "        \n",
    "        # If we bought just upgrading the variables\n",
    "        if b_price != 0:\n",
    "            possible_profit = amount*(prices[i + 1] - b_price)\n",
    "            holding_time += 1\n",
    "            total_holding +=1\n",
    "        else:\n",
    "            possible_profit = 0\n",
    "        \n",
    "        # If we got the coin flip then we can buy\n",
    "        if r == 1 and b_price == 0:\n",
    "            amount = budget/prices[i + 1]\n",
    "            b_price = prices[i + 1]\n",
    "            transaction_number += 1\n",
    "        \n",
    "        # If we hit the take profit we just sell the coin\n",
    "        if possible_profit > 3 and b_price != 0:\n",
    "            b_price = 0\n",
    "            holding_time = 0\n",
    "            budget += possible_profit\n",
    "    \n",
    "    # If we did at least one transaction we calculate the average holding time\n",
    "    if transaction_number != 0:\n",
    "        \n",
    "        p_holding = (total_holding/transaction_number)\n",
    "    \n",
    "            \n",
    "    print(\"Total profit for Random Strategy: {} %, average holding for transaction: {} days\".format((budget - 100), p_holding))\n",
    "    return budget - 100, p_holding\n",
    "\n",
    "# Naive strategy, that buy and hold  \n",
    "def holding_baseline(df):\n",
    "    amount = 100/df['open'][0]\n",
    "    profit = amount*(df['open'][-1] - df['open'][0])\n",
    "    print(\"Total profit for Baseline Holding: {} %\\n\".format(profit))  \n",
    "    return profit - 100"
   ]
  },
  {
   "cell_type": "code",
   "execution_count": 232,
   "id": "public-universe",
   "metadata": {},
   "outputs": [],
   "source": [
    "# Creating sample from dataframe\n",
    "\n",
    "def single_sample(df, sample_dim):\n",
    "    s = np.random.choice(df.index[:-sample_dim],1)\n",
    "    sample = df.iloc[df.index.get_loc(s[0]):df.index.get_loc(s[0])+sample_dim]\n",
    "    return sample"
   ]
  },
  {
   "cell_type": "markdown",
   "id": "herbal-equipment",
   "metadata": {},
   "source": [
    "## Evaluate\n",
    "\n",
    "We evaluated the possible profit using ten 15 days random samples and make the average of the profit for each strategy"
   ]
  },
  {
   "cell_type": "code",
   "execution_count": 242,
   "id": "spread-syndication",
   "metadata": {},
   "outputs": [],
   "source": [
    "# Evaluating\n",
    "\n",
    "def evaluate(df, sample_number):\n",
    "    t_s_holding = t_r_holding = total_s = total_r = total_h = 0\n",
    "    for i in range(sample_number):\n",
    "        \n",
    "        sample = single_sample(df, 15)\n",
    "        df = pd.concat([df, sample]).drop_duplicates(keep=False)\n",
    "        \n",
    "        s, s_holding = strategy(sample)\n",
    "\n",
    "        r, r_holding = random_baseline(sample)\n",
    "\n",
    "        h = holding_baseline(sample)\n",
    "        \n",
    "        # Sum all profit \n",
    "        total_s += s\n",
    "        total_r += r\n",
    "        total_h += h\n",
    "        \n",
    "        # Sum all holding time\n",
    "        t_s_holding += s_holding\n",
    "        t_r_holding += r_holding\n",
    "        \n",
    "        \n",
    "    \n",
    "    print(\"\\n\\n Average Profit for RSI/MACD Strategy: {}, Average Holding {} days\".format((total_s/sample_number), t_s_holding))\n",
    "    print(\"\\n\\n Average Profit for Random Strategy: {}, Average Holding {} days\".format((total_r/sample_number), t_r_holding))\n",
    "    print(\"\\n\\n Average Profit for Holding: {}\".format((total_h/sample_number)))"
   ]
  },
  {
   "cell_type": "markdown",
   "id": "treated-utilization",
   "metadata": {},
   "source": [
    "## Evaluate different coins\n",
    "\n",
    "If you need to evaluate different coins just change the value of ```coin``` with the one that you want to study"
   ]
  },
  {
   "cell_type": "code",
   "execution_count": 234,
   "id": "genuine-collect",
   "metadata": {},
   "outputs": [],
   "source": [
    "coin = \"BTC-EUR\"\n",
    "\n",
    "df = yf.Ticker(coin).history(period=\"max\").drop(['Dividends', 'Stock Splits'],axis = 1)\n",
    "df = StockDataFrame.retype(df)\n",
    "df = make_indicators(df)"
   ]
  },
  {
   "cell_type": "markdown",
   "id": "strange-natural",
   "metadata": {},
   "source": [
    "## Result\n",
    "\n",
    "With a timeframe of 15 days our strategy beat both the Baseline!\n",
    "\n",
    "\n",
    "Average Profit for RSI/MACD Strategy: 10.321033323478247, Average Holding 51.3 days\n",
    "\n",
    "\n",
    "Average Profit for Random Strategy: 6.532289690381719, Average Holding 65.33333333333334 days\n",
    "\n",
    "\n",
    "Average Profit for Holding: -92.64596349000122"
   ]
  },
  {
   "cell_type": "markdown",
   "id": "minus-canyon",
   "metadata": {},
   "source": [
    "## Conclusion\n",
    "\n",
    "With a short term timeframe the RSI/MACD Strategy beat both the Baseline, but with a long term the Holding Strategy is more efficient.\n",
    "\n",
    "That means that we didn't beat the Market :("
   ]
  },
  {
   "cell_type": "code",
   "execution_count": null,
   "id": "western-blowing",
   "metadata": {},
   "outputs": [],
   "source": []
  }
 ],
 "metadata": {
  "kernelspec": {
   "display_name": "Python 3",
   "language": "python",
   "name": "python3"
  },
  "language_info": {
   "codemirror_mode": {
    "name": "ipython",
    "version": 3
   },
   "file_extension": ".py",
   "mimetype": "text/x-python",
   "name": "python",
   "nbconvert_exporter": "python",
   "pygments_lexer": "ipython3",
   "version": "3.9.2"
  }
 },
 "nbformat": 4,
 "nbformat_minor": 5
}
